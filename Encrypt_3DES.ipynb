{
  "nbformat": 4,
  "nbformat_minor": 0,
  "metadata": {
    "colab": {
      "provenance": [],
      "authorship_tag": "ABX9TyPLWtE7CofRv6D1nwson9qO",
      "include_colab_link": true
    },
    "kernelspec": {
      "name": "python3",
      "display_name": "Python 3"
    },
    "language_info": {
      "name": "python"
    }
  },
  "cells": [
    {
      "cell_type": "markdown",
      "metadata": {
        "id": "view-in-github",
        "colab_type": "text"
      },
      "source": [
        "<a href=\"https://colab.research.google.com/github/marline4/Encryption-using-base64/blob/main/Encrypt_3DES.ipynb\" target=\"_parent\"><img src=\"https://colab.research.google.com/assets/colab-badge.svg\" alt=\"Open In Colab\"/></a>"
      ]
    },
    {
      "cell_type": "code",
      "execution_count": null,
      "metadata": {
        "colab": {
          "base_uri": "https://localhost:8080/"
        },
        "id": "y7qy7gU-LZj2",
        "outputId": "7de329bc-f6fc-4f44-b90c-529b5069a5ca"
      },
      "outputs": [
        {
          "output_type": "stream",
          "name": "stdout",
          "text": [
            "Encrypted Text: Qkv+V/FjVu4=\n"
          ]
        }
      ],
      "source": [
        "from cryptography.hazmat.primitives.ciphers import Cipher, algorithms, modes\n",
        "from cryptography.hazmat.backends import default_backend\n",
        "from cryptography.hazmat.primitives import padding\n",
        "import base64\n",
        "\n",
        "def encrypt_3des(key, plaintext):\n",
        "    key = key[:24]  # trim the key to 24 bytes for 3DES\n",
        "    cipher = Cipher(algorithms.TripleDES(key), modes.ECB(), backend=default_backend())\n",
        "    encryptor = cipher.encryptor()\n",
        "\n",
        "    # Add padding to the plaintext\n",
        "    padder = padding.PKCS7(algorithms.TripleDES.block_size).padder()\n",
        "    padded_data = padder.update(plaintext.encode('utf-8')) + padder.finalize()\n",
        "\n",
        "    # Encrypt padded data\n",
        "    ciphertext = encryptor.update(padded_data) + encryptor.finalize()\n",
        "\n",
        "    # Return base64-encoded ciphertext\n",
        "    return base64.b64encode(ciphertext).decode('utf-8')\n",
        "\n",
        "key = b'Sixteen byte key'\n",
        "plaintext = 'WHTA'\n",
        "encrypted_text = encrypt_3des(key, plaintext)\n",
        "print(\"Encrypted Text:\", encrypted_text)\n"
      ]
    }
  ]
}